{
 "cells": [
  {
   "cell_type": "code",
   "execution_count": 1,
   "id": "2fe3feca",
   "metadata": {},
   "outputs": [],
   "source": [
    "import pandas as pd\n",
    "import datetime as dt"
   ]
  },
  {
   "cell_type": "code",
   "execution_count": 2,
   "id": "a05a709f",
   "metadata": {},
   "outputs": [
    {
     "data": {
      "text/plain": [
       "datetime.date(1976, 1, 23)"
      ]
     },
     "execution_count": 2,
     "metadata": {},
     "output_type": "execute_result"
    }
   ],
   "source": [
    "birthdate=dt.date(1976,1,23) #datetime tipinde saklar\n",
    "birthdate"
   ]
  },
  {
   "cell_type": "code",
   "execution_count": 3,
   "id": "cd5d95dd",
   "metadata": {},
   "outputs": [
    {
     "data": {
      "text/plain": [
       "1976"
      ]
     },
     "execution_count": 3,
     "metadata": {},
     "output_type": "execute_result"
    }
   ],
   "source": [
    "birthdate.year # birthdate içinden yılı çektik"
   ]
  },
  {
   "cell_type": "code",
   "execution_count": 4,
   "id": "829d904e",
   "metadata": {},
   "outputs": [
    {
     "data": {
      "text/plain": [
       "1"
      ]
     },
     "execution_count": 4,
     "metadata": {},
     "output_type": "execute_result"
    }
   ],
   "source": [
    "birthdate.month # birthdate içinden ayı çektik"
   ]
  },
  {
   "cell_type": "code",
   "execution_count": 5,
   "id": "5cd5e298",
   "metadata": {},
   "outputs": [
    {
     "data": {
      "text/plain": [
       "23"
      ]
     },
     "execution_count": 5,
     "metadata": {},
     "output_type": "execute_result"
    }
   ],
   "source": [
    "birthdate.day # birthdate içinden günü çektik"
   ]
  },
  {
   "cell_type": "code",
   "execution_count": 6,
   "id": "f93f4cdd",
   "metadata": {},
   "outputs": [
    {
     "data": {
      "text/plain": [
       "datetime.datetime(1976, 1, 23, 0, 0)"
      ]
     },
     "execution_count": 6,
     "metadata": {},
     "output_type": "execute_result"
    }
   ],
   "source": [
    "dt.datetime(1976,1,23) #datetime da saati görebiliriz.saat girmezsek default olarak 00.00 ı baz alır"
   ]
  },
  {
   "cell_type": "code",
   "execution_count": 7,
   "id": "f7d0f22e",
   "metadata": {},
   "outputs": [
    {
     "data": {
      "text/plain": [
       "datetime.datetime(1976, 1, 23, 8, 12, 15)"
      ]
     },
     "execution_count": 7,
     "metadata": {},
     "output_type": "execute_result"
    }
   ],
   "source": [
    "dt.datetime(1976,1,23,8,12,15) #8 saat 12 dakika 15saniye 8AM"
   ]
  },
  {
   "cell_type": "code",
   "execution_count": 8,
   "id": "78207c18",
   "metadata": {},
   "outputs": [
    {
     "data": {
      "text/plain": [
       "'1976-01-23 08:12:15'"
      ]
     },
     "execution_count": 8,
     "metadata": {},
     "output_type": "execute_result"
    }
   ],
   "source": [
    "str(dt.datetime(1976,1,23,8,12,15)) #stringe çevirdik"
   ]
  },
  {
   "cell_type": "code",
   "execution_count": 9,
   "id": "273fc714",
   "metadata": {},
   "outputs": [],
   "source": [
    "sometime=dt.datetime(1976,1,23,8,12,15) "
   ]
  },
  {
   "cell_type": "code",
   "execution_count": 10,
   "id": "a10c249d",
   "metadata": {},
   "outputs": [
    {
     "data": {
      "text/plain": [
       "8"
      ]
     },
     "execution_count": 10,
     "metadata": {},
     "output_type": "execute_result"
    }
   ],
   "source": [
    "sometime.hour #sometime dan saati çektik\n",
    "\n"
   ]
  },
  {
   "cell_type": "code",
   "execution_count": 11,
   "id": "59e585ee",
   "metadata": {},
   "outputs": [
    {
     "data": {
      "text/plain": [
       "12"
      ]
     },
     "execution_count": 11,
     "metadata": {},
     "output_type": "execute_result"
    }
   ],
   "source": [
    "sometime.minute #sometime dan dakikayı çektik"
   ]
  },
  {
   "cell_type": "code",
   "execution_count": 12,
   "id": "27806e88",
   "metadata": {},
   "outputs": [
    {
     "data": {
      "text/plain": [
       "15"
      ]
     },
     "execution_count": 12,
     "metadata": {},
     "output_type": "execute_result"
    }
   ],
   "source": [
    "sometime.second #sometime dan saniyeyi çektik"
   ]
  },
  {
   "cell_type": "code",
   "execution_count": 13,
   "id": "2e205497",
   "metadata": {},
   "outputs": [
    {
     "data": {
      "text/plain": [
       "Timestamp('2022-11-21 20:12:15')"
      ]
     },
     "execution_count": 13,
     "metadata": {},
     "output_type": "execute_result"
    }
   ],
   "source": [
    "pd.Timestamp(\"2022-11-21\") #Timestamp nesnesi oluşturur. Pythondaki date ve datetime a denk gelir\n",
    "pd.Timestamp(\"2022/11/21\")\n",
    "pd.Timestamp(\"2022.11.21\")\n",
    "pd.Timestamp(\"2022-11-21\").strftime(\"%d.%m.%Y\")\n",
    "pd.Timestamp(\"2022.11.21 08:12:15\") #AM\n",
    "pd.Timestamp(\"2022.11.21 08:12:15 PM\") #PM "
   ]
  },
  {
   "cell_type": "code",
   "execution_count": 14,
   "id": "1dceafc1",
   "metadata": {},
   "outputs": [
    {
     "data": {
      "text/plain": [
       "Timestamp('1976-01-23 00:00:00')"
      ]
     },
     "execution_count": 14,
     "metadata": {},
     "output_type": "execute_result"
    }
   ],
   "source": [
    "pd.Timestamp(dt.datetime(1976,1,23)) #py deki datetime nesnesini pandasın timestamp nesnesine çevirdik"
   ]
  },
  {
   "cell_type": "code",
   "execution_count": 15,
   "id": "1ac8ebbf",
   "metadata": {},
   "outputs": [
    {
     "data": {
      "text/plain": [
       "Timestamp('1976-01-23 17:12:15')"
      ]
     },
     "execution_count": 15,
     "metadata": {},
     "output_type": "execute_result"
    }
   ],
   "source": [
    "pd.Timestamp(dt.datetime(1976,1,23,17,12,15)) #py deki datetime nesnesini pandasın timestamp nesnesine çevirdik"
   ]
  },
  {
   "cell_type": "code",
   "execution_count": 16,
   "id": "53be5f24",
   "metadata": {},
   "outputs": [
    {
     "data": {
      "text/plain": [
       "DatetimeIndex(['2022-11-21', '1995-01-12', '2012-02-25'], dtype='datetime64[ns]', freq=None)"
      ]
     },
     "execution_count": 16,
     "metadata": {},
     "output_type": "execute_result"
    }
   ],
   "source": [
    "dates=[\"2022-11-21\",\"1995-01-12\",\"2012-02-25\"] \n",
    "pd.DatetimeIndex(['2022-11-21','1995-01-12','2012-02-25']) #date türünden bir diziyi .DatetimeIndex ile datetimeindex e çevirdi\n",
    "pd.DatetimeIndex([dt.date(2022,11,21),dt.date(1995,1,12),dt.date(2012,2,25)])\n",
    "#otomatik olarak datetime a çevirmek için .date kullandık"
   ]
  },
  {
   "cell_type": "code",
   "execution_count": 17,
   "id": "2e93fdf8",
   "metadata": {},
   "outputs": [
    {
     "data": {
      "text/plain": [
       "2022-11-21    100\n",
       "1995-01-12    200\n",
       "2012-02-25    300\n",
       "dtype: int64"
      ]
     },
     "execution_count": 17,
     "metadata": {},
     "output_type": "execute_result"
    }
   ],
   "source": [
    "dates=[\"2022-11-21\",\"1995-01-12\",\"2012-02-25\"]\n",
    "sales=[100,200,300]\n",
    "indexes=pd.DatetimeIndex(dates)\n",
    "series=pd.Series(sales,index=indexes)\n",
    "series"
   ]
  },
  {
   "cell_type": "code",
   "execution_count": 18,
   "id": "dfc214c0",
   "metadata": {},
   "outputs": [
    {
     "data": {
      "text/plain": [
       "Timestamp('2022-01-03 00:00:00')"
      ]
     },
     "execution_count": 18,
     "metadata": {},
     "output_type": "execute_result"
    }
   ],
   "source": [
    "pd.to_datetime(\"2022-01-03\") #Timestampe çevirir"
   ]
  },
  {
   "cell_type": "code",
   "execution_count": 19,
   "id": "c3efdb3f",
   "metadata": {},
   "outputs": [
    {
     "data": {
      "text/plain": [
       "DatetimeIndex(['2022-11-21', '1995-01-12', '2012-02-25', '2006-01-01',\n",
       "               '2010-03-08'],\n",
       "              dtype='datetime64[ns]', freq=None)"
      ]
     },
     "execution_count": 19,
     "metadata": {},
     "output_type": "execute_result"
    }
   ],
   "source": [
    "pd.to_datetime([\"2022-11-21\",\"1995-01-12\",\"2012-02-25\",\"2006\",\"March 8,2010\"])#listeyi datetimeindex e çevirir\n",
    "#normal tarih verirsek de timestampe çevirir \"March 8,2010\"\n",
    "#ne gönderdiğimiz önemli"
   ]
  },
  {
   "cell_type": "code",
   "execution_count": 20,
   "id": "6c99ddad",
   "metadata": {},
   "outputs": [
    {
     "data": {
      "text/plain": [
       "0      2022-11-21\n",
       "1      1995-01-12\n",
       "2      2012-02-25\n",
       "3            2006\n",
       "4    March 8,2010\n",
       "dtype: object"
      ]
     },
     "execution_count": 20,
     "metadata": {},
     "output_type": "execute_result"
    }
   ],
   "source": [
    "series=pd.Series([\"2022-11-21\",\"1995-01-12\",\"2012-02-25\",\"2006\",\"March 8,2010\"])\n",
    "series"
   ]
  },
  {
   "cell_type": "code",
   "execution_count": 21,
   "id": "d6a294af",
   "metadata": {},
   "outputs": [
    {
     "data": {
      "text/plain": [
       "0   2022-11-21\n",
       "1   1995-01-12\n",
       "2   2012-02-25\n",
       "3   2006-01-01\n",
       "4   2010-03-08\n",
       "dtype: datetime64[ns]"
      ]
     },
     "execution_count": 21,
     "metadata": {},
     "output_type": "execute_result"
    }
   ],
   "source": [
    "pd.to_datetime(series) #seriyi datetime a çevirir"
   ]
  },
  {
   "cell_type": "code",
   "execution_count": 22,
   "id": "15e743fc",
   "metadata": {},
   "outputs": [
    {
     "data": {
      "text/plain": [
       "0      2022-11-21\n",
       "1      1995-01-12\n",
       "2      2012-02-25\n",
       "3            2006\n",
       "4    March 8,2010\n",
       "5           Zehra\n",
       "6      2015-02-30\n",
       "dtype: object"
      ]
     },
     "execution_count": 22,
     "metadata": {},
     "output_type": "execute_result"
    }
   ],
   "source": [
    "newSeries=pd.Series([\"2022-11-21\",\"1995-01-12\",\"2012-02-25\",\"2006\",\"March 8,2010\",\"Zehra\",\"2015-02-30\"])\n",
    "newSeries"
   ]
  },
  {
   "cell_type": "code",
   "execution_count": 23,
   "id": "a15f889b",
   "metadata": {},
   "outputs": [
    {
     "data": {
      "text/plain": [
       "0   2022-11-21\n",
       "1   1995-01-12\n",
       "2   2012-02-25\n",
       "3   2006-01-01\n",
       "4   2010-03-08\n",
       "5          NaT\n",
       "6          NaT\n",
       "dtype: datetime64[ns]"
      ]
     },
     "execution_count": 23,
     "metadata": {},
     "output_type": "execute_result"
    }
   ],
   "source": [
    "pd.to_datetime(newSeries,errors=\"coerce\") \n",
    "#errors=\"coerce\"-> çeviremediği ya da geçerli bir tarih olmayan şeyleri NaT olarak gösterir\n",
    "#errors=\"coerce->coerce zorlamak demek\" demezsek hata alırız"
   ]
  },
  {
   "cell_type": "code",
   "execution_count": 24,
   "id": "9412a47a",
   "metadata": {},
   "outputs": [
    {
     "data": {
      "text/plain": [
       "DatetimeIndex(['2022-10-12 23:48:26', '2021-11-16 17:03:26'], dtype='datetime64[ns]', freq=None)"
      ]
     },
     "execution_count": 24,
     "metadata": {},
     "output_type": "execute_result"
    }
   ],
   "source": [
    "#linuxta tarih milisaniye olarak tutulur 1970ten sonra\n",
    "pd.to_datetime([1665618506,1637082206],unit='s') #unix teki ms cinsinden tarihi normal tarihe çevirir"
   ]
  },
  {
   "cell_type": "code",
   "execution_count": 25,
   "id": "3d6e2b7f",
   "metadata": {},
   "outputs": [],
   "source": [
    "times=pd.date_range(start=\"2022-11-1\",end=\"2022-11-15\") #girilen tarih aralığını datetime olarak alırız"
   ]
  },
  {
   "cell_type": "code",
   "execution_count": 26,
   "id": "c15aaa72",
   "metadata": {},
   "outputs": [
    {
     "data": {
      "text/plain": [
       "pandas.core.indexes.datetimes.DatetimeIndex"
      ]
     },
     "execution_count": 26,
     "metadata": {},
     "output_type": "execute_result"
    }
   ],
   "source": [
    "type(times)"
   ]
  },
  {
   "cell_type": "code",
   "execution_count": 27,
   "id": "170c0379",
   "metadata": {},
   "outputs": [
    {
     "data": {
      "text/plain": [
       "DatetimeIndex(['2022-11-01', '2022-11-03', '2022-11-05', '2022-11-07',\n",
       "               '2022-11-09', '2022-11-11', '2022-11-13', '2022-11-15'],\n",
       "              dtype='datetime64[ns]', freq='2D')"
      ]
     },
     "execution_count": 27,
     "metadata": {},
     "output_type": "execute_result"
    }
   ],
   "source": [
    "pd.date_range(start=\"2022-11-1\",end=\"2022-11-15\",freq=\"2D\") #ikişer gün atlayarak verir"
   ]
  },
  {
   "cell_type": "code",
   "execution_count": 28,
   "id": "cadc4c2e",
   "metadata": {},
   "outputs": [
    {
     "data": {
      "text/plain": [
       "DatetimeIndex(['2022-11-01', '2022-11-02', '2022-11-03', '2022-11-04',\n",
       "               '2022-11-07', '2022-11-08', '2022-11-09', '2022-11-10',\n",
       "               '2022-11-11', '2022-11-14', '2022-11-15'],\n",
       "              dtype='datetime64[ns]', freq='B')"
      ]
     },
     "execution_count": 28,
     "metadata": {},
     "output_type": "execute_result"
    }
   ],
   "source": [
    "pd.date_range(start=\"2022-11-1\",end=\"2022-11-15\",freq=\"B\") #iş günlerini verir"
   ]
  },
  {
   "cell_type": "code",
   "execution_count": 29,
   "id": "8dc738ad",
   "metadata": {},
   "outputs": [
    {
     "data": {
      "text/plain": [
       "DatetimeIndex(['2022-11-06', '2022-11-13'], dtype='datetime64[ns]', freq='W-SUN')"
      ]
     },
     "execution_count": 29,
     "metadata": {},
     "output_type": "execute_result"
    }
   ],
   "source": [
    "pd.date_range(start=\"2022-11-1\",end=\"2022-11-15\",freq=\"W\")  #hafta başlangıcı default olarak pazar"
   ]
  },
  {
   "cell_type": "code",
   "execution_count": 30,
   "id": "04c13425",
   "metadata": {},
   "outputs": [
    {
     "data": {
      "text/plain": [
       "DatetimeIndex(['2022-11-07', '2022-11-14'], dtype='datetime64[ns]', freq='W-MON')"
      ]
     },
     "execution_count": 30,
     "metadata": {},
     "output_type": "execute_result"
    }
   ],
   "source": [
    "pd.date_range(start=\"2022-11-1\",end=\"2022-11-15\",freq=\"W-MON\") #haftanın başlangıcını pazartesi yaptık "
   ]
  },
  {
   "cell_type": "code",
   "execution_count": 31,
   "id": "60a25268",
   "metadata": {},
   "outputs": [
    {
     "data": {
      "text/plain": [
       "DatetimeIndex(['2022-11-01 00:00:00', '2022-11-01 01:00:00',\n",
       "               '2022-11-01 02:00:00', '2022-11-01 03:00:00',\n",
       "               '2022-11-01 04:00:00', '2022-11-01 05:00:00',\n",
       "               '2022-11-01 06:00:00', '2022-11-01 07:00:00',\n",
       "               '2022-11-01 08:00:00', '2022-11-01 09:00:00',\n",
       "               ...\n",
       "               '2022-11-14 15:00:00', '2022-11-14 16:00:00',\n",
       "               '2022-11-14 17:00:00', '2022-11-14 18:00:00',\n",
       "               '2022-11-14 19:00:00', '2022-11-14 20:00:00',\n",
       "               '2022-11-14 21:00:00', '2022-11-14 22:00:00',\n",
       "               '2022-11-14 23:00:00', '2022-11-15 00:00:00'],\n",
       "              dtype='datetime64[ns]', length=337, freq='H')"
      ]
     },
     "execution_count": 31,
     "metadata": {},
     "output_type": "execute_result"
    }
   ],
   "source": [
    "pd.date_range(start=\"2022-11-1\",end=\"2022-11-15\",freq=\"H\")#saati verir"
   ]
  },
  {
   "cell_type": "code",
   "execution_count": 32,
   "id": "df76cb5b",
   "metadata": {},
   "outputs": [
    {
     "data": {
      "text/plain": [
       "DatetimeIndex(['2022-11-01 00:00:00', '2022-11-01 02:00:00',\n",
       "               '2022-11-01 04:00:00', '2022-11-01 06:00:00',\n",
       "               '2022-11-01 08:00:00', '2022-11-01 10:00:00',\n",
       "               '2022-11-01 12:00:00', '2022-11-01 14:00:00',\n",
       "               '2022-11-01 16:00:00', '2022-11-01 18:00:00',\n",
       "               ...\n",
       "               '2022-11-14 06:00:00', '2022-11-14 08:00:00',\n",
       "               '2022-11-14 10:00:00', '2022-11-14 12:00:00',\n",
       "               '2022-11-14 14:00:00', '2022-11-14 16:00:00',\n",
       "               '2022-11-14 18:00:00', '2022-11-14 20:00:00',\n",
       "               '2022-11-14 22:00:00', '2022-11-15 00:00:00'],\n",
       "              dtype='datetime64[ns]', length=169, freq='2H')"
      ]
     },
     "execution_count": 32,
     "metadata": {},
     "output_type": "execute_result"
    }
   ],
   "source": [
    "pd.date_range(start=\"2022-11-1\",end=\"2022-11-15\",freq=\"2H\") #her ikişer saatte bir listeler"
   ]
  },
  {
   "cell_type": "code",
   "execution_count": 33,
   "id": "63fd4f35",
   "metadata": {},
   "outputs": [
    {
     "data": {
      "text/plain": [
       "DatetimeIndex(['2022-02-28', '2022-03-31', '2022-04-30', '2022-05-31',\n",
       "               '2022-06-30', '2022-07-31', '2022-08-31', '2022-09-30',\n",
       "               '2022-10-31'],\n",
       "              dtype='datetime64[ns]', freq='M')"
      ]
     },
     "execution_count": 33,
     "metadata": {},
     "output_type": "execute_result"
    }
   ],
   "source": [
    "pd.date_range(start=\"2022-2-1\",end=\"2022-11-1\",freq=\"M\") #her ayın bitişini default olarak verir"
   ]
  },
  {
   "cell_type": "code",
   "execution_count": 34,
   "id": "3ecafab3",
   "metadata": {},
   "outputs": [
    {
     "data": {
      "text/plain": [
       "DatetimeIndex(['2022-02-01', '2022-03-01', '2022-04-01', '2022-05-01',\n",
       "               '2022-06-01', '2022-07-01', '2022-08-01', '2022-09-01',\n",
       "               '2022-10-01', '2022-11-01'],\n",
       "              dtype='datetime64[ns]', freq='MS')"
      ]
     },
     "execution_count": 34,
     "metadata": {},
     "output_type": "execute_result"
    }
   ],
   "source": [
    "pd.date_range(start=\"2022-2-1\",end=\"2022-11-5\",freq=\"MS\") #month start dersek ayların başlangıçlarını veri"
   ]
  },
  {
   "cell_type": "code",
   "execution_count": 35,
   "id": "1b4acfd6",
   "metadata": {},
   "outputs": [
    {
     "data": {
      "text/plain": [
       "DatetimeIndex(['2023-01-01', '2024-01-01', '2025-01-01', '2026-01-01',\n",
       "               '2027-01-01', '2028-01-01', '2029-01-01', '2030-01-01',\n",
       "               '2031-01-01', '2032-01-01', '2033-01-01', '2034-01-01',\n",
       "               '2035-01-01', '2036-01-01', '2037-01-01', '2038-01-01',\n",
       "               '2039-01-01', '2040-01-01', '2041-01-01', '2042-01-01',\n",
       "               '2043-01-01', '2044-01-01', '2045-01-01', '2046-01-01',\n",
       "               '2047-01-01', '2048-01-01', '2049-01-01', '2050-01-01'],\n",
       "              dtype='datetime64[ns]', freq='AS-JAN')"
      ]
     },
     "execution_count": 35,
     "metadata": {},
     "output_type": "execute_result"
    }
   ],
   "source": [
    "pd.date_range(start=\"2022-11-1\",end=\"2050-11-15\",freq=\"YS\") #her yılın başını veriyo girilen aralıkta "
   ]
  },
  {
   "cell_type": "code",
   "execution_count": 36,
   "id": "d85567e5",
   "metadata": {},
   "outputs": [
    {
     "data": {
      "text/plain": [
       "DatetimeIndex(['2012-09-09', '2012-09-10', '2012-09-11', '2012-09-12',\n",
       "               '2012-09-13', '2012-09-14', '2012-09-15', '2012-09-16',\n",
       "               '2012-09-17', '2012-09-18', '2012-09-19', '2012-09-20',\n",
       "               '2012-09-21', '2012-09-22', '2012-09-23', '2012-09-24',\n",
       "               '2012-09-25', '2012-09-26', '2012-09-27', '2012-09-28',\n",
       "               '2012-09-29', '2012-09-30', '2012-10-01', '2012-10-02',\n",
       "               '2012-10-03'],\n",
       "              dtype='datetime64[ns]', freq='D')"
      ]
     },
     "execution_count": 36,
     "metadata": {},
     "output_type": "execute_result"
    }
   ],
   "source": [
    "pd.date_range(start=\"2012-09-09\",periods=25,freq=\"D\") #25 güne böler başlangıçtan itibaren"
   ]
  },
  {
   "cell_type": "code",
   "execution_count": 37,
   "id": "b4f5f480",
   "metadata": {},
   "outputs": [
    {
     "data": {
      "text/plain": [
       "DatetimeIndex(['2012-09-09', '2012-09-16', '2012-09-23', '2012-09-30',\n",
       "               '2012-10-07', '2012-10-14', '2012-10-21', '2012-10-28',\n",
       "               '2012-11-04', '2012-11-11', '2012-11-18', '2012-11-25',\n",
       "               '2012-12-02', '2012-12-09', '2012-12-16', '2012-12-23',\n",
       "               '2012-12-30', '2013-01-06', '2013-01-13', '2013-01-20',\n",
       "               '2013-01-27', '2013-02-03', '2013-02-10', '2013-02-17',\n",
       "               '2013-02-24'],\n",
       "              dtype='datetime64[ns]', freq='W-SUN')"
      ]
     },
     "execution_count": 37,
     "metadata": {},
     "output_type": "execute_result"
    }
   ],
   "source": [
    "pd.date_range(start=\"2012-09-09\",periods=25,freq=\"W\")#haftanın başlangıcı sunday"
   ]
  },
  {
   "cell_type": "code",
   "execution_count": 38,
   "id": "257db0df",
   "metadata": {},
   "outputs": [
    {
     "data": {
      "text/plain": [
       "DatetimeIndex(['2012-09-10', '2012-09-17', '2012-09-24', '2012-10-01',\n",
       "               '2012-10-08', '2012-10-15', '2012-10-22', '2012-10-29',\n",
       "               '2012-11-05', '2012-11-12', '2012-11-19', '2012-11-26',\n",
       "               '2012-12-03', '2012-12-10', '2012-12-17', '2012-12-24',\n",
       "               '2012-12-31', '2013-01-07', '2013-01-14', '2013-01-21',\n",
       "               '2013-01-28', '2013-02-04', '2013-02-11', '2013-02-18',\n",
       "               '2013-02-25'],\n",
       "              dtype='datetime64[ns]', freq='W-MON')"
      ]
     },
     "execution_count": 38,
     "metadata": {},
     "output_type": "execute_result"
    }
   ],
   "source": [
    "pd.date_range(start=\"2012-09-09\",periods=25,freq=\"W-MON\") #haftanın başlangıcını monday verir"
   ]
  },
  {
   "cell_type": "code",
   "execution_count": 39,
   "id": "73e35093",
   "metadata": {},
   "outputs": [
    {
     "data": {
      "text/plain": [
       "DatetimeIndex(['2000-01-01', '2000-01-25', '2000-02-18', '2000-03-13',\n",
       "               '2000-04-06', '2000-04-30', '2000-05-24', '2000-06-17',\n",
       "               '2000-07-11', '2000-08-04',\n",
       "               ...\n",
       "               '2010-05-20', '2010-06-13', '2010-07-07', '2010-07-31',\n",
       "               '2010-08-24', '2010-09-17', '2010-10-11', '2010-11-04',\n",
       "               '2010-11-28', '2010-12-22'],\n",
       "              dtype='datetime64[ns]', length=168, freq='24D')"
      ]
     },
     "execution_count": 39,
     "metadata": {},
     "output_type": "execute_result"
    }
   ],
   "source": [
    "tempDates=pd.date_range(start=\"2000-01-01\",end=\"2010-12-31\",freq=\"24D\")\n",
    "tempDates #24 gün 24 gün ilerler"
   ]
  },
  {
   "cell_type": "code",
   "execution_count": 40,
   "id": "e93480b1",
   "metadata": {},
   "outputs": [],
   "source": [
    "timeSeries=pd.Series(tempDates) #datetimeindex i seriye çevirme"
   ]
  },
  {
   "cell_type": "code",
   "execution_count": 41,
   "id": "27f36d37",
   "metadata": {},
   "outputs": [
    {
     "data": {
      "text/plain": [
       "0   2000-01-01\n",
       "1   2000-01-25\n",
       "2   2000-02-18\n",
       "3   2000-03-13\n",
       "4   2000-04-06\n",
       "dtype: datetime64[ns]"
      ]
     },
     "execution_count": 41,
     "metadata": {},
     "output_type": "execute_result"
    }
   ],
   "source": [
    "timeSeries.head()"
   ]
  },
  {
   "cell_type": "code",
   "execution_count": 42,
   "id": "7ed40cc7",
   "metadata": {},
   "outputs": [
    {
     "data": {
      "text/plain": [
       "0      2000-01-01\n",
       "1      2000-01-25\n",
       "2      2000-02-18\n",
       "3      2000-03-13\n",
       "4      2000-04-06\n",
       "          ...    \n",
       "163    2010-09-17\n",
       "164    2010-10-11\n",
       "165    2010-11-04\n",
       "166    2010-11-28\n",
       "167    2010-12-22\n",
       "Length: 168, dtype: object"
      ]
     },
     "execution_count": 42,
     "metadata": {},
     "output_type": "execute_result"
    }
   ],
   "source": [
    "timeSeries.dt.date #date olduğunu belirtir str ye çevirme gibi"
   ]
  },
  {
   "cell_type": "code",
   "execution_count": 43,
   "id": "38b2278d",
   "metadata": {},
   "outputs": [
    {
     "data": {
      "text/plain": [
       "0       1\n",
       "1       1\n",
       "2       2\n",
       "3       3\n",
       "4       4\n",
       "       ..\n",
       "163     9\n",
       "164    10\n",
       "165    11\n",
       "166    11\n",
       "167    12\n",
       "Length: 168, dtype: int64"
      ]
     },
     "execution_count": 43,
     "metadata": {},
     "output_type": "execute_result"
    }
   ],
   "source": [
    "timeSeries.dt.month #serinin içindeki valuelardan aylarını verir"
   ]
  },
  {
   "cell_type": "code",
   "execution_count": 44,
   "id": "fa56afa7",
   "metadata": {},
   "outputs": [
    {
     "data": {
      "text/plain": [
       "0      2000\n",
       "1      2000\n",
       "2      2000\n",
       "3      2000\n",
       "4      2000\n",
       "       ... \n",
       "163    2010\n",
       "164    2010\n",
       "165    2010\n",
       "166    2010\n",
       "167    2010\n",
       "Length: 168, dtype: int64"
      ]
     },
     "execution_count": 44,
     "metadata": {},
     "output_type": "execute_result"
    }
   ],
   "source": [
    "timeSeries.dt.year #serinin içindeki valuelardan yıllarını verir "
   ]
  },
  {
   "cell_type": "code",
   "execution_count": 45,
   "id": "ba73c652",
   "metadata": {},
   "outputs": [
    {
     "data": {
      "text/plain": [
       "0       Saturday\n",
       "1        Tuesday\n",
       "2         Friday\n",
       "3         Monday\n",
       "4       Thursday\n",
       "         ...    \n",
       "163       Friday\n",
       "164       Monday\n",
       "165     Thursday\n",
       "166       Sunday\n",
       "167    Wednesday\n",
       "Length: 168, dtype: object"
      ]
     },
     "execution_count": 45,
     "metadata": {},
     "output_type": "execute_result"
    }
   ],
   "source": [
    "timeSeries.dt.day_name() #tarihlere ait günlerin isimlerini getirdi"
   ]
  },
  {
   "cell_type": "code",
   "execution_count": 46,
   "id": "519e66ec",
   "metadata": {},
   "outputs": [
    {
     "data": {
      "text/plain": [
       "0       True\n",
       "1      False\n",
       "2      False\n",
       "3      False\n",
       "4      False\n",
       "       ...  \n",
       "163    False\n",
       "164    False\n",
       "165    False\n",
       "166    False\n",
       "167    False\n",
       "Length: 168, dtype: bool"
      ]
     },
     "execution_count": 46,
     "metadata": {},
     "output_type": "execute_result"
    }
   ],
   "source": [
    "timeSeries.dt.is_month_start #ayın başlangıcı mı?"
   ]
  },
  {
   "cell_type": "code",
   "execution_count": 47,
   "id": "9928ea87",
   "metadata": {},
   "outputs": [
    {
     "data": {
      "text/plain": [
       "0     2000-01-01\n",
       "19    2001-04-01\n",
       "38    2002-07-01\n",
       "137   2009-01-01\n",
       "dtype: datetime64[ns]"
      ]
     },
     "execution_count": 47,
     "metadata": {},
     "output_type": "execute_result"
    }
   ],
   "source": [
    "timeSeries[timeSeries.dt.is_quarter_start] #3 ayda bir ayların başlarını veriyo"
   ]
  },
  {
   "cell_type": "code",
   "execution_count": 48,
   "id": "8853e341",
   "metadata": {},
   "outputs": [
    {
     "data": {
      "text/plain": [
       "0       True\n",
       "1      False\n",
       "2      False\n",
       "3      False\n",
       "4      False\n",
       "       ...  \n",
       "163    False\n",
       "164    False\n",
       "165    False\n",
       "166    False\n",
       "167    False\n",
       "Length: 168, dtype: bool"
      ]
     },
     "execution_count": 48,
     "metadata": {},
     "output_type": "execute_result"
    }
   ],
   "source": [
    "timeSeries.dt.is_quarter_start #3 ayda bir veriyor evetse true hayırsa false döner"
   ]
  },
  {
   "cell_type": "code",
   "execution_count": 49,
   "id": "ea0fd0fe",
   "metadata": {},
   "outputs": [],
   "source": [
    "from pandas_datareader import data #internetten hisse senedi fiyatlarını çekiyor"
   ]
  },
  {
   "cell_type": "code",
   "execution_count": 50,
   "id": "376d49a5",
   "metadata": {},
   "outputs": [],
   "source": [
    "stocks=data.DataReader(name=\"MSFT\",data_source=\"yahoo\",start=\"1-1-2015\",end=\"2022-10-30\")\n",
    "#yahoonun hisse senetlerini çeker"
   ]
  },
  {
   "cell_type": "code",
   "execution_count": 51,
   "id": "fa333969",
   "metadata": {},
   "outputs": [
    {
     "data": {
      "text/html": [
       "<div>\n",
       "<style scoped>\n",
       "    .dataframe tbody tr th:only-of-type {\n",
       "        vertical-align: middle;\n",
       "    }\n",
       "\n",
       "    .dataframe tbody tr th {\n",
       "        vertical-align: top;\n",
       "    }\n",
       "\n",
       "    .dataframe thead th {\n",
       "        text-align: right;\n",
       "    }\n",
       "</style>\n",
       "<table border=\"1\" class=\"dataframe\">\n",
       "  <thead>\n",
       "    <tr style=\"text-align: right;\">\n",
       "      <th></th>\n",
       "      <th>High</th>\n",
       "      <th>Low</th>\n",
       "      <th>Open</th>\n",
       "      <th>Close</th>\n",
       "      <th>Volume</th>\n",
       "      <th>Adj Close</th>\n",
       "    </tr>\n",
       "    <tr>\n",
       "      <th>Date</th>\n",
       "      <th></th>\n",
       "      <th></th>\n",
       "      <th></th>\n",
       "      <th></th>\n",
       "      <th></th>\n",
       "      <th></th>\n",
       "    </tr>\n",
       "  </thead>\n",
       "  <tbody>\n",
       "    <tr>\n",
       "      <th>2015-01-02</th>\n",
       "      <td>47.419998</td>\n",
       "      <td>46.540001</td>\n",
       "      <td>46.660000</td>\n",
       "      <td>46.759998</td>\n",
       "      <td>27913900.0</td>\n",
       "      <td>40.811420</td>\n",
       "    </tr>\n",
       "    <tr>\n",
       "      <th>2015-01-05</th>\n",
       "      <td>46.730000</td>\n",
       "      <td>46.250000</td>\n",
       "      <td>46.369999</td>\n",
       "      <td>46.330002</td>\n",
       "      <td>39673900.0</td>\n",
       "      <td>40.436134</td>\n",
       "    </tr>\n",
       "    <tr>\n",
       "      <th>2015-01-06</th>\n",
       "      <td>46.750000</td>\n",
       "      <td>45.540001</td>\n",
       "      <td>46.380001</td>\n",
       "      <td>45.650002</td>\n",
       "      <td>36447900.0</td>\n",
       "      <td>39.842640</td>\n",
       "    </tr>\n",
       "    <tr>\n",
       "      <th>2015-01-07</th>\n",
       "      <td>46.459999</td>\n",
       "      <td>45.490002</td>\n",
       "      <td>45.980000</td>\n",
       "      <td>46.230000</td>\n",
       "      <td>29114100.0</td>\n",
       "      <td>40.348854</td>\n",
       "    </tr>\n",
       "    <tr>\n",
       "      <th>2015-01-08</th>\n",
       "      <td>47.750000</td>\n",
       "      <td>46.720001</td>\n",
       "      <td>46.750000</td>\n",
       "      <td>47.590000</td>\n",
       "      <td>29645200.0</td>\n",
       "      <td>41.535839</td>\n",
       "    </tr>\n",
       "  </tbody>\n",
       "</table>\n",
       "</div>"
      ],
      "text/plain": [
       "                 High        Low       Open      Close      Volume  Adj Close\n",
       "Date                                                                         \n",
       "2015-01-02  47.419998  46.540001  46.660000  46.759998  27913900.0  40.811420\n",
       "2015-01-05  46.730000  46.250000  46.369999  46.330002  39673900.0  40.436134\n",
       "2015-01-06  46.750000  45.540001  46.380001  45.650002  36447900.0  39.842640\n",
       "2015-01-07  46.459999  45.490002  45.980000  46.230000  29114100.0  40.348854\n",
       "2015-01-08  47.750000  46.720001  46.750000  47.590000  29645200.0  41.535839"
      ]
     },
     "execution_count": 51,
     "metadata": {},
     "output_type": "execute_result"
    }
   ],
   "source": [
    "stocks.head()"
   ]
  },
  {
   "cell_type": "code",
   "execution_count": 52,
   "id": "e48714f9",
   "metadata": {},
   "outputs": [
    {
     "data": {
      "text/plain": [
       "DatetimeIndex(['2015-01-02', '2015-01-05', '2015-01-06', '2015-01-07',\n",
       "               '2015-01-08', '2015-01-09', '2015-01-12', '2015-01-13',\n",
       "               '2015-01-14', '2015-01-15',\n",
       "               ...\n",
       "               '2022-10-17', '2022-10-18', '2022-10-19', '2022-10-20',\n",
       "               '2022-10-21', '2022-10-24', '2022-10-25', '2022-10-26',\n",
       "               '2022-10-27', '2022-10-28'],\n",
       "              dtype='datetime64[ns]', name='Date', length=1971, freq=None)"
      ]
     },
     "execution_count": 52,
     "metadata": {},
     "output_type": "execute_result"
    }
   ],
   "source": [
    "stocks.index #datetime index nesne"
   ]
  },
  {
   "cell_type": "code",
   "execution_count": 53,
   "id": "7d3b148a",
   "metadata": {},
   "outputs": [
    {
     "data": {
      "text/plain": [
       "High         4.673000e+01\n",
       "Low          4.625000e+01\n",
       "Open         4.637000e+01\n",
       "Close        4.633000e+01\n",
       "Volume       3.967390e+07\n",
       "Adj Close    4.043613e+01\n",
       "Name: 2015-01-05 00:00:00, dtype: float64"
      ]
     },
     "execution_count": 53,
     "metadata": {},
     "output_type": "execute_result"
    }
   ],
   "source": [
    "stocks.loc[\"2015-01-05\"] #verdiğimiz indexteki rowdaki bilgileri getirdi"
   ]
  },
  {
   "cell_type": "code",
   "execution_count": 54,
   "id": "e7f97d60",
   "metadata": {},
   "outputs": [
    {
     "data": {
      "text/html": [
       "<div>\n",
       "<style scoped>\n",
       "    .dataframe tbody tr th:only-of-type {\n",
       "        vertical-align: middle;\n",
       "    }\n",
       "\n",
       "    .dataframe tbody tr th {\n",
       "        vertical-align: top;\n",
       "    }\n",
       "\n",
       "    .dataframe thead th {\n",
       "        text-align: right;\n",
       "    }\n",
       "</style>\n",
       "<table border=\"1\" class=\"dataframe\">\n",
       "  <thead>\n",
       "    <tr style=\"text-align: right;\">\n",
       "      <th></th>\n",
       "      <th>High</th>\n",
       "      <th>Low</th>\n",
       "      <th>Open</th>\n",
       "      <th>Close</th>\n",
       "      <th>Volume</th>\n",
       "      <th>Adj Close</th>\n",
       "    </tr>\n",
       "    <tr>\n",
       "      <th>Date</th>\n",
       "      <th></th>\n",
       "      <th></th>\n",
       "      <th></th>\n",
       "      <th></th>\n",
       "      <th></th>\n",
       "      <th></th>\n",
       "    </tr>\n",
       "  </thead>\n",
       "  <tbody>\n",
       "    <tr>\n",
       "      <th>2015-01-05</th>\n",
       "      <td>46.730000</td>\n",
       "      <td>46.250000</td>\n",
       "      <td>46.369999</td>\n",
       "      <td>46.330002</td>\n",
       "      <td>39673900.0</td>\n",
       "      <td>40.436134</td>\n",
       "    </tr>\n",
       "    <tr>\n",
       "      <th>2015-01-06</th>\n",
       "      <td>46.750000</td>\n",
       "      <td>45.540001</td>\n",
       "      <td>46.380001</td>\n",
       "      <td>45.650002</td>\n",
       "      <td>36447900.0</td>\n",
       "      <td>39.842640</td>\n",
       "    </tr>\n",
       "    <tr>\n",
       "      <th>2015-01-07</th>\n",
       "      <td>46.459999</td>\n",
       "      <td>45.490002</td>\n",
       "      <td>45.980000</td>\n",
       "      <td>46.230000</td>\n",
       "      <td>29114100.0</td>\n",
       "      <td>40.348854</td>\n",
       "    </tr>\n",
       "    <tr>\n",
       "      <th>2015-01-08</th>\n",
       "      <td>47.750000</td>\n",
       "      <td>46.720001</td>\n",
       "      <td>46.750000</td>\n",
       "      <td>47.590000</td>\n",
       "      <td>29645200.0</td>\n",
       "      <td>41.535839</td>\n",
       "    </tr>\n",
       "    <tr>\n",
       "      <th>2015-01-09</th>\n",
       "      <td>47.820000</td>\n",
       "      <td>46.900002</td>\n",
       "      <td>47.610001</td>\n",
       "      <td>47.189999</td>\n",
       "      <td>23944200.0</td>\n",
       "      <td>41.186733</td>\n",
       "    </tr>\n",
       "    <tr>\n",
       "      <th>2015-01-12</th>\n",
       "      <td>47.540001</td>\n",
       "      <td>46.360001</td>\n",
       "      <td>47.419998</td>\n",
       "      <td>46.599998</td>\n",
       "      <td>23651900.0</td>\n",
       "      <td>40.671776</td>\n",
       "    </tr>\n",
       "    <tr>\n",
       "      <th>2015-01-13</th>\n",
       "      <td>47.910000</td>\n",
       "      <td>46.060001</td>\n",
       "      <td>46.970001</td>\n",
       "      <td>46.360001</td>\n",
       "      <td>35270600.0</td>\n",
       "      <td>40.462315</td>\n",
       "    </tr>\n",
       "    <tr>\n",
       "      <th>2015-01-14</th>\n",
       "      <td>46.240002</td>\n",
       "      <td>45.619999</td>\n",
       "      <td>45.959999</td>\n",
       "      <td>45.959999</td>\n",
       "      <td>29719600.0</td>\n",
       "      <td>40.113205</td>\n",
       "    </tr>\n",
       "    <tr>\n",
       "      <th>2015-01-15</th>\n",
       "      <td>46.380001</td>\n",
       "      <td>45.410000</td>\n",
       "      <td>46.220001</td>\n",
       "      <td>45.480000</td>\n",
       "      <td>32750800.0</td>\n",
       "      <td>39.694252</td>\n",
       "    </tr>\n",
       "  </tbody>\n",
       "</table>\n",
       "</div>"
      ],
      "text/plain": [
       "                 High        Low       Open      Close      Volume  Adj Close\n",
       "Date                                                                         \n",
       "2015-01-05  46.730000  46.250000  46.369999  46.330002  39673900.0  40.436134\n",
       "2015-01-06  46.750000  45.540001  46.380001  45.650002  36447900.0  39.842640\n",
       "2015-01-07  46.459999  45.490002  45.980000  46.230000  29114100.0  40.348854\n",
       "2015-01-08  47.750000  46.720001  46.750000  47.590000  29645200.0  41.535839\n",
       "2015-01-09  47.820000  46.900002  47.610001  47.189999  23944200.0  41.186733\n",
       "2015-01-12  47.540001  46.360001  47.419998  46.599998  23651900.0  40.671776\n",
       "2015-01-13  47.910000  46.060001  46.970001  46.360001  35270600.0  40.462315\n",
       "2015-01-14  46.240002  45.619999  45.959999  45.959999  29719600.0  40.113205\n",
       "2015-01-15  46.380001  45.410000  46.220001  45.480000  32750800.0  39.694252"
      ]
     },
     "execution_count": 54,
     "metadata": {},
     "output_type": "execute_result"
    }
   ],
   "source": [
    "#iki tarih aralığını çekmek için\n",
    "stocks.loc[\"2015-01-05\":'2015-01-15']"
   ]
  },
  {
   "cell_type": "code",
   "execution_count": 55,
   "id": "1c585694",
   "metadata": {},
   "outputs": [
    {
     "data": {
      "text/html": [
       "<div>\n",
       "<style scoped>\n",
       "    .dataframe tbody tr th:only-of-type {\n",
       "        vertical-align: middle;\n",
       "    }\n",
       "\n",
       "    .dataframe tbody tr th {\n",
       "        vertical-align: top;\n",
       "    }\n",
       "\n",
       "    .dataframe thead th {\n",
       "        text-align: right;\n",
       "    }\n",
       "</style>\n",
       "<table border=\"1\" class=\"dataframe\">\n",
       "  <thead>\n",
       "    <tr style=\"text-align: right;\">\n",
       "      <th></th>\n",
       "      <th>High</th>\n",
       "      <th>Low</th>\n",
       "      <th>Open</th>\n",
       "      <th>Close</th>\n",
       "      <th>Volume</th>\n",
       "      <th>Adj Close</th>\n",
       "    </tr>\n",
       "    <tr>\n",
       "      <th>Date</th>\n",
       "      <th></th>\n",
       "      <th></th>\n",
       "      <th></th>\n",
       "      <th></th>\n",
       "      <th></th>\n",
       "      <th></th>\n",
       "    </tr>\n",
       "  </thead>\n",
       "  <tbody>\n",
       "    <tr>\n",
       "      <th>2015-01-05</th>\n",
       "      <td>46.730000</td>\n",
       "      <td>46.250000</td>\n",
       "      <td>46.369999</td>\n",
       "      <td>46.330002</td>\n",
       "      <td>39673900.0</td>\n",
       "      <td>40.436134</td>\n",
       "    </tr>\n",
       "    <tr>\n",
       "      <th>2015-01-06</th>\n",
       "      <td>46.750000</td>\n",
       "      <td>45.540001</td>\n",
       "      <td>46.380001</td>\n",
       "      <td>45.650002</td>\n",
       "      <td>36447900.0</td>\n",
       "      <td>39.842640</td>\n",
       "    </tr>\n",
       "    <tr>\n",
       "      <th>2015-01-07</th>\n",
       "      <td>46.459999</td>\n",
       "      <td>45.490002</td>\n",
       "      <td>45.980000</td>\n",
       "      <td>46.230000</td>\n",
       "      <td>29114100.0</td>\n",
       "      <td>40.348854</td>\n",
       "    </tr>\n",
       "    <tr>\n",
       "      <th>2015-01-08</th>\n",
       "      <td>47.750000</td>\n",
       "      <td>46.720001</td>\n",
       "      <td>46.750000</td>\n",
       "      <td>47.590000</td>\n",
       "      <td>29645200.0</td>\n",
       "      <td>41.535839</td>\n",
       "    </tr>\n",
       "    <tr>\n",
       "      <th>2015-01-09</th>\n",
       "      <td>47.820000</td>\n",
       "      <td>46.900002</td>\n",
       "      <td>47.610001</td>\n",
       "      <td>47.189999</td>\n",
       "      <td>23944200.0</td>\n",
       "      <td>41.186733</td>\n",
       "    </tr>\n",
       "    <tr>\n",
       "      <th>2015-01-12</th>\n",
       "      <td>47.540001</td>\n",
       "      <td>46.360001</td>\n",
       "      <td>47.419998</td>\n",
       "      <td>46.599998</td>\n",
       "      <td>23651900.0</td>\n",
       "      <td>40.671776</td>\n",
       "    </tr>\n",
       "    <tr>\n",
       "      <th>2015-01-13</th>\n",
       "      <td>47.910000</td>\n",
       "      <td>46.060001</td>\n",
       "      <td>46.970001</td>\n",
       "      <td>46.360001</td>\n",
       "      <td>35270600.0</td>\n",
       "      <td>40.462315</td>\n",
       "    </tr>\n",
       "    <tr>\n",
       "      <th>2015-01-14</th>\n",
       "      <td>46.240002</td>\n",
       "      <td>45.619999</td>\n",
       "      <td>45.959999</td>\n",
       "      <td>45.959999</td>\n",
       "      <td>29719600.0</td>\n",
       "      <td>40.113205</td>\n",
       "    </tr>\n",
       "    <tr>\n",
       "      <th>2015-01-15</th>\n",
       "      <td>46.380001</td>\n",
       "      <td>45.410000</td>\n",
       "      <td>46.220001</td>\n",
       "      <td>45.480000</td>\n",
       "      <td>32750800.0</td>\n",
       "      <td>39.694252</td>\n",
       "    </tr>\n",
       "  </tbody>\n",
       "</table>\n",
       "</div>"
      ],
      "text/plain": [
       "                 High        Low       Open      Close      Volume  Adj Close\n",
       "Date                                                                         \n",
       "2015-01-05  46.730000  46.250000  46.369999  46.330002  39673900.0  40.436134\n",
       "2015-01-06  46.750000  45.540001  46.380001  45.650002  36447900.0  39.842640\n",
       "2015-01-07  46.459999  45.490002  45.980000  46.230000  29114100.0  40.348854\n",
       "2015-01-08  47.750000  46.720001  46.750000  47.590000  29645200.0  41.535839\n",
       "2015-01-09  47.820000  46.900002  47.610001  47.189999  23944200.0  41.186733\n",
       "2015-01-12  47.540001  46.360001  47.419998  46.599998  23651900.0  40.671776\n",
       "2015-01-13  47.910000  46.060001  46.970001  46.360001  35270600.0  40.462315\n",
       "2015-01-14  46.240002  45.619999  45.959999  45.959999  29719600.0  40.113205\n",
       "2015-01-15  46.380001  45.410000  46.220001  45.480000  32750800.0  39.694252"
      ]
     },
     "execution_count": 55,
     "metadata": {},
     "output_type": "execute_result"
    }
   ],
   "source": [
    "stocks.truncate(before=\"2015-01-05\",after='2015-01-15') #loc la aynı görevi görür"
   ]
  },
  {
   "cell_type": "code",
   "execution_count": 56,
   "id": "1d6d48db",
   "metadata": {},
   "outputs": [
    {
     "data": {
      "text/html": [
       "<div>\n",
       "<style scoped>\n",
       "    .dataframe tbody tr th:only-of-type {\n",
       "        vertical-align: middle;\n",
       "    }\n",
       "\n",
       "    .dataframe tbody tr th {\n",
       "        vertical-align: top;\n",
       "    }\n",
       "\n",
       "    .dataframe thead th {\n",
       "        text-align: right;\n",
       "    }\n",
       "</style>\n",
       "<table border=\"1\" class=\"dataframe\">\n",
       "  <thead>\n",
       "    <tr style=\"text-align: right;\">\n",
       "      <th></th>\n",
       "      <th>High</th>\n",
       "      <th>Low</th>\n",
       "      <th>Open</th>\n",
       "      <th>Close</th>\n",
       "      <th>Volume</th>\n",
       "      <th>Adj Close</th>\n",
       "    </tr>\n",
       "    <tr>\n",
       "      <th>Date</th>\n",
       "      <th></th>\n",
       "      <th></th>\n",
       "      <th></th>\n",
       "      <th></th>\n",
       "      <th></th>\n",
       "      <th></th>\n",
       "    </tr>\n",
       "  </thead>\n",
       "  <tbody>\n",
       "    <tr>\n",
       "      <th>2015-01-05</th>\n",
       "      <td>46.730000</td>\n",
       "      <td>46.250000</td>\n",
       "      <td>46.369999</td>\n",
       "      <td>46.330002</td>\n",
       "      <td>39673900.0</td>\n",
       "      <td>40.436134</td>\n",
       "    </tr>\n",
       "    <tr>\n",
       "      <th>2015-01-06</th>\n",
       "      <td>46.750000</td>\n",
       "      <td>45.540001</td>\n",
       "      <td>46.380001</td>\n",
       "      <td>45.650002</td>\n",
       "      <td>36447900.0</td>\n",
       "      <td>39.842640</td>\n",
       "    </tr>\n",
       "    <tr>\n",
       "      <th>2015-01-07</th>\n",
       "      <td>46.459999</td>\n",
       "      <td>45.490002</td>\n",
       "      <td>45.980000</td>\n",
       "      <td>46.230000</td>\n",
       "      <td>29114100.0</td>\n",
       "      <td>40.348854</td>\n",
       "    </tr>\n",
       "    <tr>\n",
       "      <th>2015-01-08</th>\n",
       "      <td>47.750000</td>\n",
       "      <td>46.720001</td>\n",
       "      <td>46.750000</td>\n",
       "      <td>47.590000</td>\n",
       "      <td>29645200.0</td>\n",
       "      <td>41.535839</td>\n",
       "    </tr>\n",
       "    <tr>\n",
       "      <th>2015-01-09</th>\n",
       "      <td>47.820000</td>\n",
       "      <td>46.900002</td>\n",
       "      <td>47.610001</td>\n",
       "      <td>47.189999</td>\n",
       "      <td>23944200.0</td>\n",
       "      <td>41.186733</td>\n",
       "    </tr>\n",
       "    <tr>\n",
       "      <th>...</th>\n",
       "      <td>...</td>\n",
       "      <td>...</td>\n",
       "      <td>...</td>\n",
       "      <td>...</td>\n",
       "      <td>...</td>\n",
       "      <td>...</td>\n",
       "    </tr>\n",
       "    <tr>\n",
       "      <th>2022-10-24</th>\n",
       "      <td>247.839996</td>\n",
       "      <td>241.300003</td>\n",
       "      <td>243.759995</td>\n",
       "      <td>247.250000</td>\n",
       "      <td>24911200.0</td>\n",
       "      <td>246.555176</td>\n",
       "    </tr>\n",
       "    <tr>\n",
       "      <th>2022-10-25</th>\n",
       "      <td>251.039993</td>\n",
       "      <td>245.830002</td>\n",
       "      <td>247.259995</td>\n",
       "      <td>250.660004</td>\n",
       "      <td>34775500.0</td>\n",
       "      <td>249.955582</td>\n",
       "    </tr>\n",
       "    <tr>\n",
       "      <th>2022-10-26</th>\n",
       "      <td>238.300003</td>\n",
       "      <td>230.059998</td>\n",
       "      <td>231.169998</td>\n",
       "      <td>231.320007</td>\n",
       "      <td>82543200.0</td>\n",
       "      <td>230.669937</td>\n",
       "    </tr>\n",
       "    <tr>\n",
       "      <th>2022-10-27</th>\n",
       "      <td>233.690002</td>\n",
       "      <td>225.779999</td>\n",
       "      <td>231.039993</td>\n",
       "      <td>226.750000</td>\n",
       "      <td>40424600.0</td>\n",
       "      <td>226.112778</td>\n",
       "    </tr>\n",
       "    <tr>\n",
       "      <th>2022-10-28</th>\n",
       "      <td>236.600006</td>\n",
       "      <td>226.050003</td>\n",
       "      <td>226.240005</td>\n",
       "      <td>235.869995</td>\n",
       "      <td>40647700.0</td>\n",
       "      <td>235.207138</td>\n",
       "    </tr>\n",
       "  </tbody>\n",
       "</table>\n",
       "<p>1970 rows × 6 columns</p>\n",
       "</div>"
      ],
      "text/plain": [
       "                  High         Low        Open       Close      Volume  \\\n",
       "Date                                                                     \n",
       "2015-01-05   46.730000   46.250000   46.369999   46.330002  39673900.0   \n",
       "2015-01-06   46.750000   45.540001   46.380001   45.650002  36447900.0   \n",
       "2015-01-07   46.459999   45.490002   45.980000   46.230000  29114100.0   \n",
       "2015-01-08   47.750000   46.720001   46.750000   47.590000  29645200.0   \n",
       "2015-01-09   47.820000   46.900002   47.610001   47.189999  23944200.0   \n",
       "...                ...         ...         ...         ...         ...   \n",
       "2022-10-24  247.839996  241.300003  243.759995  247.250000  24911200.0   \n",
       "2022-10-25  251.039993  245.830002  247.259995  250.660004  34775500.0   \n",
       "2022-10-26  238.300003  230.059998  231.169998  231.320007  82543200.0   \n",
       "2022-10-27  233.690002  225.779999  231.039993  226.750000  40424600.0   \n",
       "2022-10-28  236.600006  226.050003  226.240005  235.869995  40647700.0   \n",
       "\n",
       "             Adj Close  \n",
       "Date                    \n",
       "2015-01-05   40.436134  \n",
       "2015-01-06   39.842640  \n",
       "2015-01-07   40.348854  \n",
       "2015-01-08   41.535839  \n",
       "2015-01-09   41.186733  \n",
       "...                ...  \n",
       "2022-10-24  246.555176  \n",
       "2022-10-25  249.955582  \n",
       "2022-10-26  230.669937  \n",
       "2022-10-27  226.112778  \n",
       "2022-10-28  235.207138  \n",
       "\n",
       "[1970 rows x 6 columns]"
      ]
     },
     "execution_count": 56,
     "metadata": {},
     "output_type": "execute_result"
    }
   ],
   "source": [
    "stocks.truncate(before=\"2015-01-05\") #loc la aynı görevi görür"
   ]
  },
  {
   "cell_type": "code",
   "execution_count": 57,
   "id": "caf1c63e",
   "metadata": {},
   "outputs": [
    {
     "data": {
      "text/html": [
       "<div>\n",
       "<style scoped>\n",
       "    .dataframe tbody tr th:only-of-type {\n",
       "        vertical-align: middle;\n",
       "    }\n",
       "\n",
       "    .dataframe tbody tr th {\n",
       "        vertical-align: top;\n",
       "    }\n",
       "\n",
       "    .dataframe thead th {\n",
       "        text-align: right;\n",
       "    }\n",
       "</style>\n",
       "<table border=\"1\" class=\"dataframe\">\n",
       "  <thead>\n",
       "    <tr style=\"text-align: right;\">\n",
       "      <th></th>\n",
       "      <th>High</th>\n",
       "      <th>Low</th>\n",
       "      <th>Open</th>\n",
       "      <th>Close</th>\n",
       "      <th>Volume</th>\n",
       "      <th>Adj Close</th>\n",
       "    </tr>\n",
       "    <tr>\n",
       "      <th>Date</th>\n",
       "      <th></th>\n",
       "      <th></th>\n",
       "      <th></th>\n",
       "      <th></th>\n",
       "      <th></th>\n",
       "      <th></th>\n",
       "    </tr>\n",
       "  </thead>\n",
       "  <tbody>\n",
       "    <tr>\n",
       "      <th>2015-01-02</th>\n",
       "      <td>47.419998</td>\n",
       "      <td>46.540001</td>\n",
       "      <td>46.660000</td>\n",
       "      <td>46.759998</td>\n",
       "      <td>27913900.0</td>\n",
       "      <td>40.811420</td>\n",
       "    </tr>\n",
       "    <tr>\n",
       "      <th>2015-01-05</th>\n",
       "      <td>46.730000</td>\n",
       "      <td>46.250000</td>\n",
       "      <td>46.369999</td>\n",
       "      <td>46.330002</td>\n",
       "      <td>39673900.0</td>\n",
       "      <td>40.436134</td>\n",
       "    </tr>\n",
       "    <tr>\n",
       "      <th>2015-01-06</th>\n",
       "      <td>46.750000</td>\n",
       "      <td>45.540001</td>\n",
       "      <td>46.380001</td>\n",
       "      <td>45.650002</td>\n",
       "      <td>36447900.0</td>\n",
       "      <td>39.842640</td>\n",
       "    </tr>\n",
       "    <tr>\n",
       "      <th>2015-01-07</th>\n",
       "      <td>46.459999</td>\n",
       "      <td>45.490002</td>\n",
       "      <td>45.980000</td>\n",
       "      <td>46.230000</td>\n",
       "      <td>29114100.0</td>\n",
       "      <td>40.348854</td>\n",
       "    </tr>\n",
       "    <tr>\n",
       "      <th>2015-01-08</th>\n",
       "      <td>47.750000</td>\n",
       "      <td>46.720001</td>\n",
       "      <td>46.750000</td>\n",
       "      <td>47.590000</td>\n",
       "      <td>29645200.0</td>\n",
       "      <td>41.535839</td>\n",
       "    </tr>\n",
       "    <tr>\n",
       "      <th>2015-01-09</th>\n",
       "      <td>47.820000</td>\n",
       "      <td>46.900002</td>\n",
       "      <td>47.610001</td>\n",
       "      <td>47.189999</td>\n",
       "      <td>23944200.0</td>\n",
       "      <td>41.186733</td>\n",
       "    </tr>\n",
       "    <tr>\n",
       "      <th>2015-01-12</th>\n",
       "      <td>47.540001</td>\n",
       "      <td>46.360001</td>\n",
       "      <td>47.419998</td>\n",
       "      <td>46.599998</td>\n",
       "      <td>23651900.0</td>\n",
       "      <td>40.671776</td>\n",
       "    </tr>\n",
       "    <tr>\n",
       "      <th>2015-01-13</th>\n",
       "      <td>47.910000</td>\n",
       "      <td>46.060001</td>\n",
       "      <td>46.970001</td>\n",
       "      <td>46.360001</td>\n",
       "      <td>35270600.0</td>\n",
       "      <td>40.462315</td>\n",
       "    </tr>\n",
       "    <tr>\n",
       "      <th>2015-01-14</th>\n",
       "      <td>46.240002</td>\n",
       "      <td>45.619999</td>\n",
       "      <td>45.959999</td>\n",
       "      <td>45.959999</td>\n",
       "      <td>29719600.0</td>\n",
       "      <td>40.113205</td>\n",
       "    </tr>\n",
       "    <tr>\n",
       "      <th>2015-01-15</th>\n",
       "      <td>46.380001</td>\n",
       "      <td>45.410000</td>\n",
       "      <td>46.220001</td>\n",
       "      <td>45.480000</td>\n",
       "      <td>32750800.0</td>\n",
       "      <td>39.694252</td>\n",
       "    </tr>\n",
       "  </tbody>\n",
       "</table>\n",
       "</div>"
      ],
      "text/plain": [
       "                 High        Low       Open      Close      Volume  Adj Close\n",
       "Date                                                                         \n",
       "2015-01-02  47.419998  46.540001  46.660000  46.759998  27913900.0  40.811420\n",
       "2015-01-05  46.730000  46.250000  46.369999  46.330002  39673900.0  40.436134\n",
       "2015-01-06  46.750000  45.540001  46.380001  45.650002  36447900.0  39.842640\n",
       "2015-01-07  46.459999  45.490002  45.980000  46.230000  29114100.0  40.348854\n",
       "2015-01-08  47.750000  46.720001  46.750000  47.590000  29645200.0  41.535839\n",
       "2015-01-09  47.820000  46.900002  47.610001  47.189999  23944200.0  41.186733\n",
       "2015-01-12  47.540001  46.360001  47.419998  46.599998  23651900.0  40.671776\n",
       "2015-01-13  47.910000  46.060001  46.970001  46.360001  35270600.0  40.462315\n",
       "2015-01-14  46.240002  45.619999  45.959999  45.959999  29719600.0  40.113205\n",
       "2015-01-15  46.380001  45.410000  46.220001  45.480000  32750800.0  39.694252"
      ]
     },
     "execution_count": 57,
     "metadata": {},
     "output_type": "execute_result"
    }
   ],
   "source": [
    "stocks.truncate(after='2015-01-15') #loc la aynı görevi görür"
   ]
  },
  {
   "cell_type": "code",
   "execution_count": 58,
   "id": "aeb3fbd3",
   "metadata": {},
   "outputs": [
    {
     "data": {
      "text/plain": [
       "DatetimeIndex(['1976-01-23', '1977-01-23', '1978-01-23', '1979-01-23',\n",
       "               '1980-01-23', '1981-01-23', '1982-01-23', '1983-01-23',\n",
       "               '1984-01-23', '1985-01-23', '1986-01-23', '1987-01-23',\n",
       "               '1988-01-23', '1989-01-23', '1990-01-23', '1991-01-23',\n",
       "               '1992-01-23', '1993-01-23', '1994-01-23', '1995-01-23',\n",
       "               '1996-01-23', '1997-01-23', '1998-01-23', '1999-01-23',\n",
       "               '2000-01-23', '2001-01-23', '2002-01-23', '2003-01-23',\n",
       "               '2004-01-23', '2005-01-23', '2006-01-23', '2007-01-23',\n",
       "               '2008-01-23', '2009-01-23', '2010-01-23', '2011-01-23',\n",
       "               '2012-01-23', '2013-01-23', '2014-01-23', '2015-01-23',\n",
       "               '2016-01-23', '2017-01-23', '2018-01-23', '2019-01-23',\n",
       "               '2020-01-23', '2021-01-23'],\n",
       "              dtype='datetime64[ns]', freq='<DateOffset: years=1>')"
      ]
     },
     "execution_count": 58,
     "metadata": {},
     "output_type": "execute_result"
    }
   ],
   "source": [
    "birthdates=pd.date_range(start=\"1976-1-23\",end=\"2021-1-23\",freq=pd.DateOffset(years=1))\n",
    "#bizim belirlediğimiz tarihten itibaren birer yıl birer yıl gösterir\n",
    "birthdates"
   ]
  },
  {
   "cell_type": "code",
   "execution_count": 59,
   "id": "ec7d1b8f",
   "metadata": {},
   "outputs": [
    {
     "data": {
      "text/html": [
       "<div>\n",
       "<style scoped>\n",
       "    .dataframe tbody tr th:only-of-type {\n",
       "        vertical-align: middle;\n",
       "    }\n",
       "\n",
       "    .dataframe tbody tr th {\n",
       "        vertical-align: top;\n",
       "    }\n",
       "\n",
       "    .dataframe thead th {\n",
       "        text-align: right;\n",
       "    }\n",
       "</style>\n",
       "<table border=\"1\" class=\"dataframe\">\n",
       "  <thead>\n",
       "    <tr style=\"text-align: right;\">\n",
       "      <th></th>\n",
       "      <th>High</th>\n",
       "      <th>Low</th>\n",
       "      <th>Open</th>\n",
       "      <th>Close</th>\n",
       "      <th>Volume</th>\n",
       "      <th>Adj Close</th>\n",
       "    </tr>\n",
       "    <tr>\n",
       "      <th>Date</th>\n",
       "      <th></th>\n",
       "      <th></th>\n",
       "      <th></th>\n",
       "      <th></th>\n",
       "      <th></th>\n",
       "      <th></th>\n",
       "    </tr>\n",
       "  </thead>\n",
       "  <tbody>\n",
       "    <tr>\n",
       "      <th>2015-01-02</th>\n",
       "      <td>47.419998</td>\n",
       "      <td>46.540001</td>\n",
       "      <td>46.660000</td>\n",
       "      <td>46.759998</td>\n",
       "      <td>27913900.0</td>\n",
       "      <td>40.811420</td>\n",
       "    </tr>\n",
       "    <tr>\n",
       "      <th>2015-01-05</th>\n",
       "      <td>46.730000</td>\n",
       "      <td>46.250000</td>\n",
       "      <td>46.369999</td>\n",
       "      <td>46.330002</td>\n",
       "      <td>39673900.0</td>\n",
       "      <td>40.436134</td>\n",
       "    </tr>\n",
       "    <tr>\n",
       "      <th>2015-01-06</th>\n",
       "      <td>46.750000</td>\n",
       "      <td>45.540001</td>\n",
       "      <td>46.380001</td>\n",
       "      <td>45.650002</td>\n",
       "      <td>36447900.0</td>\n",
       "      <td>39.842640</td>\n",
       "    </tr>\n",
       "    <tr>\n",
       "      <th>2015-01-07</th>\n",
       "      <td>46.459999</td>\n",
       "      <td>45.490002</td>\n",
       "      <td>45.980000</td>\n",
       "      <td>46.230000</td>\n",
       "      <td>29114100.0</td>\n",
       "      <td>40.348854</td>\n",
       "    </tr>\n",
       "    <tr>\n",
       "      <th>2015-01-08</th>\n",
       "      <td>47.750000</td>\n",
       "      <td>46.720001</td>\n",
       "      <td>46.750000</td>\n",
       "      <td>47.590000</td>\n",
       "      <td>29645200.0</td>\n",
       "      <td>41.535839</td>\n",
       "    </tr>\n",
       "    <tr>\n",
       "      <th>...</th>\n",
       "      <td>...</td>\n",
       "      <td>...</td>\n",
       "      <td>...</td>\n",
       "      <td>...</td>\n",
       "      <td>...</td>\n",
       "      <td>...</td>\n",
       "    </tr>\n",
       "    <tr>\n",
       "      <th>2022-10-24</th>\n",
       "      <td>247.839996</td>\n",
       "      <td>241.300003</td>\n",
       "      <td>243.759995</td>\n",
       "      <td>247.250000</td>\n",
       "      <td>24911200.0</td>\n",
       "      <td>246.555176</td>\n",
       "    </tr>\n",
       "    <tr>\n",
       "      <th>2022-10-25</th>\n",
       "      <td>251.039993</td>\n",
       "      <td>245.830002</td>\n",
       "      <td>247.259995</td>\n",
       "      <td>250.660004</td>\n",
       "      <td>34775500.0</td>\n",
       "      <td>249.955582</td>\n",
       "    </tr>\n",
       "    <tr>\n",
       "      <th>2022-10-26</th>\n",
       "      <td>238.300003</td>\n",
       "      <td>230.059998</td>\n",
       "      <td>231.169998</td>\n",
       "      <td>231.320007</td>\n",
       "      <td>82543200.0</td>\n",
       "      <td>230.669937</td>\n",
       "    </tr>\n",
       "    <tr>\n",
       "      <th>2022-10-27</th>\n",
       "      <td>233.690002</td>\n",
       "      <td>225.779999</td>\n",
       "      <td>231.039993</td>\n",
       "      <td>226.750000</td>\n",
       "      <td>40424600.0</td>\n",
       "      <td>226.112778</td>\n",
       "    </tr>\n",
       "    <tr>\n",
       "      <th>2022-10-28</th>\n",
       "      <td>236.600006</td>\n",
       "      <td>226.050003</td>\n",
       "      <td>226.240005</td>\n",
       "      <td>235.869995</td>\n",
       "      <td>40647700.0</td>\n",
       "      <td>235.207138</td>\n",
       "    </tr>\n",
       "  </tbody>\n",
       "</table>\n",
       "<p>1971 rows × 6 columns</p>\n",
       "</div>"
      ],
      "text/plain": [
       "                  High         Low        Open       Close      Volume  \\\n",
       "Date                                                                     \n",
       "2015-01-02   47.419998   46.540001   46.660000   46.759998  27913900.0   \n",
       "2015-01-05   46.730000   46.250000   46.369999   46.330002  39673900.0   \n",
       "2015-01-06   46.750000   45.540001   46.380001   45.650002  36447900.0   \n",
       "2015-01-07   46.459999   45.490002   45.980000   46.230000  29114100.0   \n",
       "2015-01-08   47.750000   46.720001   46.750000   47.590000  29645200.0   \n",
       "...                ...         ...         ...         ...         ...   \n",
       "2022-10-24  247.839996  241.300003  243.759995  247.250000  24911200.0   \n",
       "2022-10-25  251.039993  245.830002  247.259995  250.660004  34775500.0   \n",
       "2022-10-26  238.300003  230.059998  231.169998  231.320007  82543200.0   \n",
       "2022-10-27  233.690002  225.779999  231.039993  226.750000  40424600.0   \n",
       "2022-10-28  236.600006  226.050003  226.240005  235.869995  40647700.0   \n",
       "\n",
       "             Adj Close  \n",
       "Date                    \n",
       "2015-01-02   40.811420  \n",
       "2015-01-05   40.436134  \n",
       "2015-01-06   39.842640  \n",
       "2015-01-07   40.348854  \n",
       "2015-01-08   41.535839  \n",
       "...                ...  \n",
       "2022-10-24  246.555176  \n",
       "2022-10-25  249.955582  \n",
       "2022-10-26  230.669937  \n",
       "2022-10-27  226.112778  \n",
       "2022-10-28  235.207138  \n",
       "\n",
       "[1971 rows x 6 columns]"
      ]
     },
     "execution_count": 59,
     "metadata": {},
     "output_type": "execute_result"
    }
   ],
   "source": [
    "stocks"
   ]
  },
  {
   "cell_type": "code",
   "execution_count": 60,
   "id": "796dc8e5",
   "metadata": {},
   "outputs": [
    {
     "data": {
      "text/html": [
       "<div>\n",
       "<style scoped>\n",
       "    .dataframe tbody tr th:only-of-type {\n",
       "        vertical-align: middle;\n",
       "    }\n",
       "\n",
       "    .dataframe tbody tr th {\n",
       "        vertical-align: top;\n",
       "    }\n",
       "\n",
       "    .dataframe thead th {\n",
       "        text-align: right;\n",
       "    }\n",
       "</style>\n",
       "<table border=\"1\" class=\"dataframe\">\n",
       "  <thead>\n",
       "    <tr style=\"text-align: right;\">\n",
       "      <th></th>\n",
       "      <th>Day_Of_Week</th>\n",
       "      <th>High</th>\n",
       "      <th>Low</th>\n",
       "      <th>Open</th>\n",
       "      <th>Close</th>\n",
       "      <th>Volume</th>\n",
       "      <th>Adj Close</th>\n",
       "    </tr>\n",
       "    <tr>\n",
       "      <th>Date</th>\n",
       "      <th></th>\n",
       "      <th></th>\n",
       "      <th></th>\n",
       "      <th></th>\n",
       "      <th></th>\n",
       "      <th></th>\n",
       "      <th></th>\n",
       "    </tr>\n",
       "  </thead>\n",
       "  <tbody>\n",
       "    <tr>\n",
       "      <th>2015-01-02</th>\n",
       "      <td>Friday</td>\n",
       "      <td>47.419998</td>\n",
       "      <td>46.540001</td>\n",
       "      <td>46.660000</td>\n",
       "      <td>46.759998</td>\n",
       "      <td>27913900.0</td>\n",
       "      <td>40.811420</td>\n",
       "    </tr>\n",
       "    <tr>\n",
       "      <th>2015-01-05</th>\n",
       "      <td>Monday</td>\n",
       "      <td>46.730000</td>\n",
       "      <td>46.250000</td>\n",
       "      <td>46.369999</td>\n",
       "      <td>46.330002</td>\n",
       "      <td>39673900.0</td>\n",
       "      <td>40.436134</td>\n",
       "    </tr>\n",
       "    <tr>\n",
       "      <th>2015-01-06</th>\n",
       "      <td>Tuesday</td>\n",
       "      <td>46.750000</td>\n",
       "      <td>45.540001</td>\n",
       "      <td>46.380001</td>\n",
       "      <td>45.650002</td>\n",
       "      <td>36447900.0</td>\n",
       "      <td>39.842640</td>\n",
       "    </tr>\n",
       "    <tr>\n",
       "      <th>2015-01-07</th>\n",
       "      <td>Wednesday</td>\n",
       "      <td>46.459999</td>\n",
       "      <td>45.490002</td>\n",
       "      <td>45.980000</td>\n",
       "      <td>46.230000</td>\n",
       "      <td>29114100.0</td>\n",
       "      <td>40.348854</td>\n",
       "    </tr>\n",
       "    <tr>\n",
       "      <th>2015-01-08</th>\n",
       "      <td>Thursday</td>\n",
       "      <td>47.750000</td>\n",
       "      <td>46.720001</td>\n",
       "      <td>46.750000</td>\n",
       "      <td>47.590000</td>\n",
       "      <td>29645200.0</td>\n",
       "      <td>41.535839</td>\n",
       "    </tr>\n",
       "    <tr>\n",
       "      <th>...</th>\n",
       "      <td>...</td>\n",
       "      <td>...</td>\n",
       "      <td>...</td>\n",
       "      <td>...</td>\n",
       "      <td>...</td>\n",
       "      <td>...</td>\n",
       "      <td>...</td>\n",
       "    </tr>\n",
       "    <tr>\n",
       "      <th>2022-10-24</th>\n",
       "      <td>Monday</td>\n",
       "      <td>247.839996</td>\n",
       "      <td>241.300003</td>\n",
       "      <td>243.759995</td>\n",
       "      <td>247.250000</td>\n",
       "      <td>24911200.0</td>\n",
       "      <td>246.555176</td>\n",
       "    </tr>\n",
       "    <tr>\n",
       "      <th>2022-10-25</th>\n",
       "      <td>Tuesday</td>\n",
       "      <td>251.039993</td>\n",
       "      <td>245.830002</td>\n",
       "      <td>247.259995</td>\n",
       "      <td>250.660004</td>\n",
       "      <td>34775500.0</td>\n",
       "      <td>249.955582</td>\n",
       "    </tr>\n",
       "    <tr>\n",
       "      <th>2022-10-26</th>\n",
       "      <td>Wednesday</td>\n",
       "      <td>238.300003</td>\n",
       "      <td>230.059998</td>\n",
       "      <td>231.169998</td>\n",
       "      <td>231.320007</td>\n",
       "      <td>82543200.0</td>\n",
       "      <td>230.669937</td>\n",
       "    </tr>\n",
       "    <tr>\n",
       "      <th>2022-10-27</th>\n",
       "      <td>Thursday</td>\n",
       "      <td>233.690002</td>\n",
       "      <td>225.779999</td>\n",
       "      <td>231.039993</td>\n",
       "      <td>226.750000</td>\n",
       "      <td>40424600.0</td>\n",
       "      <td>226.112778</td>\n",
       "    </tr>\n",
       "    <tr>\n",
       "      <th>2022-10-28</th>\n",
       "      <td>Friday</td>\n",
       "      <td>236.600006</td>\n",
       "      <td>226.050003</td>\n",
       "      <td>226.240005</td>\n",
       "      <td>235.869995</td>\n",
       "      <td>40647700.0</td>\n",
       "      <td>235.207138</td>\n",
       "    </tr>\n",
       "  </tbody>\n",
       "</table>\n",
       "<p>1971 rows × 7 columns</p>\n",
       "</div>"
      ],
      "text/plain": [
       "           Day_Of_Week        High         Low        Open       Close  \\\n",
       "Date                                                                     \n",
       "2015-01-02      Friday   47.419998   46.540001   46.660000   46.759998   \n",
       "2015-01-05      Monday   46.730000   46.250000   46.369999   46.330002   \n",
       "2015-01-06     Tuesday   46.750000   45.540001   46.380001   45.650002   \n",
       "2015-01-07   Wednesday   46.459999   45.490002   45.980000   46.230000   \n",
       "2015-01-08    Thursday   47.750000   46.720001   46.750000   47.590000   \n",
       "...                ...         ...         ...         ...         ...   \n",
       "2022-10-24      Monday  247.839996  241.300003  243.759995  247.250000   \n",
       "2022-10-25     Tuesday  251.039993  245.830002  247.259995  250.660004   \n",
       "2022-10-26   Wednesday  238.300003  230.059998  231.169998  231.320007   \n",
       "2022-10-27    Thursday  233.690002  225.779999  231.039993  226.750000   \n",
       "2022-10-28      Friday  236.600006  226.050003  226.240005  235.869995   \n",
       "\n",
       "                Volume   Adj Close  \n",
       "Date                                \n",
       "2015-01-02  27913900.0   40.811420  \n",
       "2015-01-05  39673900.0   40.436134  \n",
       "2015-01-06  36447900.0   39.842640  \n",
       "2015-01-07  29114100.0   40.348854  \n",
       "2015-01-08  29645200.0   41.535839  \n",
       "...                ...         ...  \n",
       "2022-10-24  24911200.0  246.555176  \n",
       "2022-10-25  34775500.0  249.955582  \n",
       "2022-10-26  82543200.0  230.669937  \n",
       "2022-10-27  40424600.0  226.112778  \n",
       "2022-10-28  40647700.0  235.207138  \n",
       "\n",
       "[1971 rows x 7 columns]"
      ]
     },
     "execution_count": 60,
     "metadata": {},
     "output_type": "execute_result"
    }
   ],
   "source": [
    "stocks.insert(0,\"Day_Of_Week\",stocks.index.day_name()) #yeni column ekledik\n",
    "stocks"
   ]
  },
  {
   "cell_type": "code",
   "execution_count": 61,
   "id": "53acfed4",
   "metadata": {},
   "outputs": [
    {
     "data": {
      "text/plain": [
       "DatetimeIndex(['2015-01-07', '2015-01-10', '2015-01-11', '2015-01-12',\n",
       "               '2015-01-13', '2015-01-14', '2015-01-17', '2015-01-18',\n",
       "               '2015-01-19', '2015-01-20',\n",
       "               ...\n",
       "               '2022-10-22', '2022-10-23', '2022-10-24', '2022-10-25',\n",
       "               '2022-10-26', '2022-10-29', '2022-10-30', '2022-10-31',\n",
       "               '2022-11-01', '2022-11-02'],\n",
       "              dtype='datetime64[ns]', name='Date', length=1971, freq=None)"
      ]
     },
     "execution_count": 61,
     "metadata": {},
     "output_type": "execute_result"
    }
   ],
   "source": [
    "stocks.index+pd.DateOffset(days=5) #stocks.index+5 diyemiyoruz.DateOffset le işlem  yaparız tüm günlere 5 ekler"
   ]
  },
  {
   "cell_type": "code",
   "execution_count": 62,
   "id": "bad15b90",
   "metadata": {},
   "outputs": [
    {
     "data": {
      "text/plain": [
       "DatetimeIndex(['2015-03-02', '2015-03-05', '2015-03-06', '2015-03-07',\n",
       "               '2015-03-08', '2015-03-09', '2015-03-12', '2015-03-13',\n",
       "               '2015-03-14', '2015-03-15',\n",
       "               ...\n",
       "               '2022-12-17', '2022-12-18', '2022-12-19', '2022-12-20',\n",
       "               '2022-12-21', '2022-12-24', '2022-12-25', '2022-12-26',\n",
       "               '2022-12-27', '2022-12-28'],\n",
       "              dtype='datetime64[ns]', name='Date', length=1971, freq=None)"
      ]
     },
     "execution_count": 62,
     "metadata": {},
     "output_type": "execute_result"
    }
   ],
   "source": [
    "stocks.index+pd.DateOffset(months=2) #aylara 2 ekler"
   ]
  },
  {
   "cell_type": "code",
   "execution_count": 63,
   "id": "2cd4c7f0",
   "metadata": {},
   "outputs": [
    {
     "data": {
      "text/plain": [
       "Timedelta('11 days 00:00:00')"
      ]
     },
     "execution_count": 63,
     "metadata": {},
     "output_type": "execute_result"
    }
   ],
   "source": [
    "firstTime=pd.Timestamp(\"2020-03-31\") #iki tarih arasındaki fark timedelta türünde gelir\n",
    "secondTime=pd.Timestamp(\"2020-03-20\")\n",
    "firstTime-secondTime"
   ]
  },
  {
   "cell_type": "code",
   "execution_count": 64,
   "id": "63755d18",
   "metadata": {},
   "outputs": [
    {
     "data": {
      "text/plain": [
       "Timedelta('11 days 14:19:27')"
      ]
     },
     "execution_count": 64,
     "metadata": {},
     "output_type": "execute_result"
    }
   ],
   "source": [
    "firstTime=pd.Timestamp(\"2020-03-31 04:35:16PM\") #iki tarih arasındaki fark timedelta türünde gelier\n",
    "secondTime=pd.Timestamp(\"2020-03-20 02:15:49AM\")\n",
    "firstTime-secondTime"
   ]
  },
  {
   "cell_type": "code",
   "execution_count": 65,
   "id": "ee566da1",
   "metadata": {},
   "outputs": [
    {
     "data": {
      "text/plain": [
       "Timestamp('2020-04-03 16:35:16')"
      ]
     },
     "execution_count": 65,
     "metadata": {},
     "output_type": "execute_result"
    }
   ],
   "source": [
    "firstTime+pd.Timedelta(days=3) #3gün ekledi"
   ]
  },
  {
   "cell_type": "code",
   "execution_count": 66,
   "id": "14f5d603",
   "metadata": {},
   "outputs": [
    {
     "data": {
      "text/plain": [
       "Timestamp('2020-05-30 05:20:46')"
      ]
     },
     "execution_count": 66,
     "metadata": {},
     "output_type": "execute_result"
    }
   ],
   "source": [
    "firstTime+pd.Timedelta(weeks=8,days=3,hours=12,minutes=45,seconds=30)"
   ]
  },
  {
   "cell_type": "code",
   "execution_count": 67,
   "id": "d46fc968",
   "metadata": {},
   "outputs": [
    {
     "data": {
      "text/plain": [
       "Timedelta('10 days 07:15:32')"
      ]
     },
     "execution_count": 67,
     "metadata": {},
     "output_type": "execute_result"
    }
   ],
   "source": [
    "pd.Timedelta(\"5 minutes\") #yazıları timedeltaya çevirmek için\n",
    "pd.Timedelta(\"7 hours 15 minutes\")\n",
    "pd.Timedelta(\"10 days 7 hours 15 minutes 32 seconds\")"
   ]
  },
  {
   "cell_type": "code",
   "execution_count": 68,
   "id": "3d089563",
   "metadata": {},
   "outputs": [],
   "source": [
    "#Grafik çizmek için;"
   ]
  },
  {
   "cell_type": "code",
   "execution_count": 69,
   "id": "f0340bef",
   "metadata": {},
   "outputs": [],
   "source": [
    "import matplotlib.pyplot as plt\n",
    "%matplotlib inline\n",
    "#hemen altta grafiklerin çıkmasını sağlar"
   ]
  },
  {
   "cell_type": "code",
   "execution_count": 70,
   "id": "49288fe7",
   "metadata": {},
   "outputs": [
    {
     "data": {
      "text/html": [
       "<div>\n",
       "<style scoped>\n",
       "    .dataframe tbody tr th:only-of-type {\n",
       "        vertical-align: middle;\n",
       "    }\n",
       "\n",
       "    .dataframe tbody tr th {\n",
       "        vertical-align: top;\n",
       "    }\n",
       "\n",
       "    .dataframe thead th {\n",
       "        text-align: right;\n",
       "    }\n",
       "</style>\n",
       "<table border=\"1\" class=\"dataframe\">\n",
       "  <thead>\n",
       "    <tr style=\"text-align: right;\">\n",
       "      <th></th>\n",
       "      <th>High</th>\n",
       "      <th>Low</th>\n",
       "      <th>Open</th>\n",
       "      <th>Close</th>\n",
       "      <th>Volume</th>\n",
       "      <th>Adj Close</th>\n",
       "    </tr>\n",
       "    <tr>\n",
       "      <th>Date</th>\n",
       "      <th></th>\n",
       "      <th></th>\n",
       "      <th></th>\n",
       "      <th></th>\n",
       "      <th></th>\n",
       "      <th></th>\n",
       "    </tr>\n",
       "  </thead>\n",
       "  <tbody>\n",
       "    <tr>\n",
       "      <th>2007-01-03</th>\n",
       "      <td>44.026669</td>\n",
       "      <td>41.703335</td>\n",
       "      <td>43.086666</td>\n",
       "      <td>42.849998</td>\n",
       "      <td>34739100.0</td>\n",
       "      <td>42.849998</td>\n",
       "    </tr>\n",
       "    <tr>\n",
       "      <th>2007-01-04</th>\n",
       "      <td>46.316666</td>\n",
       "      <td>42.423332</td>\n",
       "      <td>42.953335</td>\n",
       "      <td>46.189999</td>\n",
       "      <td>46007700.0</td>\n",
       "      <td>46.189999</td>\n",
       "    </tr>\n",
       "    <tr>\n",
       "      <th>2007-01-05</th>\n",
       "      <td>47.306667</td>\n",
       "      <td>45.166668</td>\n",
       "      <td>45.500000</td>\n",
       "      <td>47.099998</td>\n",
       "      <td>41453400.0</td>\n",
       "      <td>47.099998</td>\n",
       "    </tr>\n",
       "    <tr>\n",
       "      <th>2007-01-08</th>\n",
       "      <td>48.410000</td>\n",
       "      <td>46.606667</td>\n",
       "      <td>47.283333</td>\n",
       "      <td>47.386665</td>\n",
       "      <td>38547300.0</td>\n",
       "      <td>47.386665</td>\n",
       "    </tr>\n",
       "    <tr>\n",
       "      <th>2007-01-09</th>\n",
       "      <td>47.666668</td>\n",
       "      <td>43.263332</td>\n",
       "      <td>47.570000</td>\n",
       "      <td>43.666668</td>\n",
       "      <td>74142000.0</td>\n",
       "      <td>43.666668</td>\n",
       "    </tr>\n",
       "  </tbody>\n",
       "</table>\n",
       "</div>"
      ],
      "text/plain": [
       "                 High        Low       Open      Close      Volume  Adj Close\n",
       "Date                                                                         \n",
       "2007-01-03  44.026669  41.703335  43.086666  42.849998  34739100.0  42.849998\n",
       "2007-01-04  46.316666  42.423332  42.953335  46.189999  46007700.0  46.189999\n",
       "2007-01-05  47.306667  45.166668  45.500000  47.099998  41453400.0  47.099998\n",
       "2007-01-08  48.410000  46.606667  47.283333  47.386665  38547300.0  47.386665\n",
       "2007-01-09  47.666668  43.263332  47.570000  43.666668  74142000.0  43.666668"
      ]
     },
     "execution_count": 70,
     "metadata": {},
     "output_type": "execute_result"
    }
   ],
   "source": [
    "yahoo=data.DataReader(name=\"BB\",data_source=\"yahoo\",start=\"2007-01-01\",end=\"2021-12-31\")\n",
    "yahoo.head()"
   ]
  },
  {
   "cell_type": "code",
   "execution_count": 71,
   "id": "99409303",
   "metadata": {},
   "outputs": [
    {
     "data": {
      "text/plain": [
       "<AxesSubplot:xlabel='Date'>"
      ]
     },
     "execution_count": 71,
     "metadata": {},
     "output_type": "execute_result"
    },
    {
     "data": {
      "image/png": "[encoded data removed]",
      "text/plain": [
       "<Figure size 640x480 with 1 Axes>"
      ]
     },
     "metadata": {},
     "output_type": "display_data"
    }
   ],
   "source": [
    "yahoo.plot() #grafik çizdirmek için\n",
    "#belirteç->legent high low open... ın renkleri"
   ]
  },
  {
   "cell_type": "code",
   "execution_count": 72,
   "id": "d030f743",
   "metadata": {},
   "outputs": [
    {
     "data": {
      "text/plain": [
       "<AxesSubplot:xlabel='Date'>"
      ]
     },
     "execution_count": 72,
     "metadata": {},
     "output_type": "execute_result"
    },
    {
     "data": {
      "image/png": "[encoded data removed]",
      "text/plain": [
       "<Figure size 640x480 with 1 Axes>"
      ]
     },
     "metadata": {},
     "output_type": "display_data"
    }
   ],
   "source": [
    "yahoo.plot(y=\"High\") #hepsini görmek istemeyebiliriz istediğimizi çizdirebiliriz"
   ]
  },
  {
   "cell_type": "code",
   "execution_count": 73,
   "id": "d4bdab6d",
   "metadata": {},
   "outputs": [
    {
     "data": {
      "text/plain": [
       "<AxesSubplot:xlabel='Date'>"
      ]
     },
     "execution_count": 73,
     "metadata": {},
     "output_type": "execute_result"
    },
    {
     "data": {
      "image/png": "[encoded data removed]",
      "text/plain": [
       "<Figure size 640x480 with 1 Axes>"
      ]
     },
     "metadata": {},
     "output_type": "display_data"
    }
   ],
   "source": [
    "yahoo.plot(y=[\"High\",\"Close\"]) #birden fazla da çizdirebiliriz"
   ]
  },
  {
   "cell_type": "code",
   "execution_count": 74,
   "id": "e0d7d5f5",
   "metadata": {},
   "outputs": [
    {
     "data": {
      "text/plain": [
       "['Solarize_Light2',\n",
       " '_classic_test_patch',\n",
       " '_mpl-gallery',\n",
       " '_mpl-gallery-nogrid',\n",
       " 'bmh',\n",
       " 'classic',\n",
       " 'dark_background',\n",
       " 'fast',\n",
       " 'fivethirtyeight',\n",
       " 'ggplot',\n",
       " 'grayscale',\n",
       " 'seaborn',\n",
       " 'seaborn-bright',\n",
       " 'seaborn-colorblind',\n",
       " 'seaborn-dark',\n",
       " 'seaborn-dark-palette',\n",
       " 'seaborn-darkgrid',\n",
       " 'seaborn-deep',\n",
       " 'seaborn-muted',\n",
       " 'seaborn-notebook',\n",
       " 'seaborn-paper',\n",
       " 'seaborn-pastel',\n",
       " 'seaborn-poster',\n",
       " 'seaborn-talk',\n",
       " 'seaborn-ticks',\n",
       " 'seaborn-white',\n",
       " 'seaborn-whitegrid',\n",
       " 'tableau-colorblind10']"
      ]
     },
     "execution_count": 74,
     "metadata": {},
     "output_type": "execute_result"
    }
   ],
   "source": [
    "#grafik çizdirirken bir çok stil vardır\n",
    "plt.style.available"
   ]
  },
  {
   "cell_type": "code",
   "execution_count": 75,
   "id": "e4d2bba0",
   "metadata": {},
   "outputs": [
    {
     "data": {
      "text/plain": [
       "<AxesSubplot:xlabel='Date'>"
      ]
     },
     "execution_count": 75,
     "metadata": {},
     "output_type": "execute_result"
    },
    {
     "data": {
      "image/png": "[encoded data removed]",
      "text/plain": [
       "<Figure size 640x480 with 1 Axes>"
      ]
     },
     "metadata": {},
     "output_type": "display_data"
    }
   ],
   "source": [
    "plt.style.use('fivethirtyeight') #şu stile göre çiz dedik\n",
    "yahoo.plot(y=\"Close\")"
   ]
  },
  {
   "cell_type": "code",
   "execution_count": 76,
   "id": "6945e165",
   "metadata": {},
   "outputs": [
    {
     "data": {
      "text/plain": [
       "<AxesSubplot:xlabel='Date'>"
      ]
     },
     "execution_count": 76,
     "metadata": {},
     "output_type": "execute_result"
    },
    {
     "data": {
      "image/png": "[encoded data removed]",
      "text/plain": [
       "<Figure size 640x480 with 1 Axes>"
      ]
     },
     "metadata": {},
     "output_type": "display_data"
    }
   ],
   "source": [
    "plt.style.use('dark_background') #arka plan ekledik\n",
    "yahoo.plot(y=\"Close\")"
   ]
  },
  {
   "cell_type": "code",
   "execution_count": 77,
   "id": "f56e2317",
   "metadata": {},
   "outputs": [
    {
     "data": {
      "text/plain": [
       "<AxesSubplot:xlabel='Date'>"
      ]
     },
     "execution_count": 77,
     "metadata": {},
     "output_type": "execute_result"
    },
    {
     "data": {
      "image/png": "[encoded data removed]",
      "text/plain": [
       "<Figure size 640x480 with 1 Axes>"
      ]
     },
     "metadata": {},
     "output_type": "display_data"
    }
   ],
   "source": [
    "plt.style.use('tableau-colorblind10')\n",
    "yahoo.plot(y=\"Close\")"
   ]
  },
  {
   "cell_type": "code",
   "execution_count": 78,
   "id": "cd5eebff",
   "metadata": {},
   "outputs": [],
   "source": [
    "def rank_performance(stock_price):\n",
    "    if stock_price <=10:\n",
    "        return \"Poor\"\n",
    "    elif stock_price<=50:\n",
    "        return \"Satisfactory\"\n",
    "    else:\n",
    "        return \"Stellar\"\n",
    "    "
   ]
  },
  {
   "cell_type": "code",
   "execution_count": 79,
   "id": "d004ef59",
   "metadata": {},
   "outputs": [
    {
     "data": {
      "text/plain": [
       "<AxesSubplot:>"
      ]
     },
     "execution_count": 79,
     "metadata": {},
     "output_type": "execute_result"
    },
    {
     "data": {
      "image/png": "[encoded data removed]",
      "text/plain": [
       "<Figure size 640x480 with 1 Axes>"
      ]
     },
     "metadata": {},
     "output_type": "display_data"
    }
   ],
   "source": [
    "yahoo[\"Close\"].apply(rank_performance).value_counts().plot(kind=\"barh\",legend=True) \n",
    "#barh horizontal yani grafiğin şeklini değiştirir\n",
    "#legend renklerin ne olduğunu yazar göstergeç gibi düşünebiliriz"
   ]
  },
  {
   "cell_type": "code",
   "execution_count": 80,
   "id": "ccb591e5",
   "metadata": {},
   "outputs": [
    {
     "data": {
      "text/plain": [
       "<AxesSubplot:>"
      ]
     },
     "execution_count": 80,
     "metadata": {},
     "output_type": "execute_result"
    },
    {
     "data": {
      "image/png": "[encoded data removed]",
      "text/plain": [
       "<Figure size 640x480 with 1 Axes>"
      ]
     },
     "metadata": {},
     "output_type": "display_data"
    }
   ],
   "source": [
    "yahoo[\"Close\"].apply(rank_performance).value_counts().plot(kind=\"bar\",legend=True)\n",
    "#bar dersek normal çizer"
   ]
  },
  {
   "cell_type": "code",
   "execution_count": 81,
   "id": "968eb64c",
   "metadata": {},
   "outputs": [
    {
     "data": {
      "text/plain": [
       "<AxesSubplot:ylabel='Close'>"
      ]
     },
     "execution_count": 81,
     "metadata": {},
     "output_type": "execute_result"
    },
    {
     "data": {
      "image/png": "[encoded data removed]",
      "text/plain": [
       "<Figure size 640x480 with 1 Axes>"
      ]
     },
     "metadata": {},
     "output_type": "display_data"
    }
   ],
   "source": [
    "yahoo[\"Close\"].apply(rank_performance).value_counts().plot(kind=\"pie\",legend=True)\n",
    "#pie dersek elma dilimi grafik yapar"
   ]
  },
  {
   "cell_type": "code",
   "execution_count": 82,
   "id": "be9940a9",
   "metadata": {},
   "outputs": [
    {
     "data": {
      "text/plain": [
       "<AxesSubplot:>"
      ]
     },
     "execution_count": 82,
     "metadata": {},
     "output_type": "execute_result"
    },
    {
     "data": {
      "image/png": "[encoded data removed]",
      "text/plain": [
       "<Figure size 640x480 with 1 Axes>"
      ]
     },
     "metadata": {},
     "output_type": "display_data"
    }
   ],
   "source": [
    "yahoo[\"Close\"].apply(rank_performance).value_counts().plot()"
   ]
  }
 ],
 "metadata": {
  "kernelspec": {
   "display_name": "Python 3 (ipykernel)",
   "language": "python",
   "name": "python3"
  },
  "language_info": {
   "codemirror_mode": {
    "name": "ipython",
    "version": 3
   },
   "file_extension": ".py",
   "mimetype": "text/x-python",
   "name": "python",
   "nbconvert_exporter": "python",
   "pygments_lexer": "ipython3",
   "version": "3.9.13"
  }
 },
 "nbformat": 4,
 "nbformat_minor": 5
}
